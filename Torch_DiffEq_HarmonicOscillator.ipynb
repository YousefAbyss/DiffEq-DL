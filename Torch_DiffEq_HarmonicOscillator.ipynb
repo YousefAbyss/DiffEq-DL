{
 "cells": [
  {
   "cell_type": "markdown",
   "id": "fcfe4de6-8b77-493a-8bd8-eb6c50a32154",
   "metadata": {},
   "source": [
    "# Harmonic Motion\n",
    "\n",
    "\\begin{equation} \\tag{1}\n",
    "  m \\dfrac{d^2 u}{d t^2} + \\mu \\dfrac{d u}{d t} + ku = 0~,\n",
    "\\end{equation}\n",
    "\n",
    "\\begin{equation}\n",
    "  u(t=0) = 1~~,~~\\dfrac{d u}{d t}(t=0) = 0~.\n",
    "\\tag{2}\n",
    "\\end{equation}\n",
    "\n",
    "\\begin{equation}\n",
    "  u(t) = e^{-\\delta t}(2 A \\cos(\\phi + \\omega t))~,~~~~~\\mathrm{with}~~\\omega=\\sqrt{\\omega_0^2 - \\delta^2}~.\n",
    "\\tag{3}\n",
    "\\end{equation}\n",
    "\n",
    "\\begin{equation}\n",
    "\\mathcal{L}(\\theta)= (N\\!N(0;\\theta) - 1)^2 + \\lambda_1 \\left(\\frac{d N\\!N}{dt}(0;\\theta) - 0\\right)^2 + \\frac{\\lambda_2}{N} \\sum^{N}_{i} \\left( \\left[ m\\frac{d^2}{dt^2} + \\mu \\frac{d}{dt} + k \\right] N\\!N(t_{i};\\theta)  \\right)^2\n",
    "\\end{equation}"
   ]
  },
  {
   "cell_type": "code",
   "execution_count": null,
   "id": "5b922100-0cf6-4df3-915d-e49796dea636",
   "metadata": {},
   "outputs": [],
   "source": [
    "import numpy as np\n",
    "import torch\n",
    "import torch.nn as nn\n",
    "import matplotlib.pyplot as plt\n",
    "import scienceplots\n",
    "plt.style.use(['science', 'notebook', 'grid'])"
   ]
  },
  {
   "cell_type": "code",
   "execution_count": null,
   "id": "cc2b2198-6b54-40a0-8c6c-0c0a0f46d534",
   "metadata": {},
   "outputs": [],
   "source": [
    "torch.manual_seed(15)\n",
    "\n",
    "\n",
    "def exact_solution(d, w0, t):\n",
    "    \"Defines the analytical solution to the under-damped harmonic oscillator problem above.\"\n",
    "    assert d < w0\n",
    "    w = np.sqrt(w0**2 - d**2)\n",
    "    phi = np.arctan(-d / w)\n",
    "    A = 1 / ( 2* np.cos(phi))\n",
    "    cos = torch.cos(phi + w * t)\n",
    "    exp = torch.exp(-d * t)\n",
    "    u = exp * 2 * A * cos\n",
    "    return u"
   ]
  },
  {
   "cell_type": "code",
   "execution_count": null,
   "id": "0b7220f1-853e-4655-a148-ef4c7f26fbfb",
   "metadata": {},
   "outputs": [],
   "source": [
    "class FCN(nn.Module):\n",
    "    \"Defines a connected network\"\n",
    "\n",
    "    def __init__(self, N_INPUT, N_OUTPUT, N_HIDDEN, N_LAYERS):\n",
    "        super().__init__()\n",
    "        activation = nn.Tanh\n",
    "        self.fcs = nn.Sequential(*[\n",
    "                        nn.Linear(N_INPUT, N_HIDDEN),\n",
    "                        activation()])\n",
    "        self.fch = nn.Sequential(*[\n",
    "                        nn.Sequential(*[\n",
    "                            nn.Linear(N_HIDDEN, N_HIDDEN),\n",
    "                            activation()]) for _ in range(N_LAYERS - 1)])\n",
    "        self.fce = nn.Linear(N_HIDDEN, N_OUTPUT)\n",
    "\n",
    "    def forward(self, x):\n",
    "        x = self.fcs(x)\n",
    "        x = self.fch(x)\n",
    "        x = self.fce(x)\n",
    "        return x"
   ]
  },
  {
   "cell_type": "code",
   "execution_count": null,
   "id": "857b4649-b7ec-418d-94ab-11c4e0046e37",
   "metadata": {},
   "outputs": [],
   "source": [
    "model = FCN(1, 1, 32, 3)\n",
    "t_boundary = torch.tensor(0.).view(-1, 1).requires_grad_(True)\n",
    "t_physics = torch.linspace(0, 1, 30).view(-1, 1).requires_grad_(True)\n",
    "d, w0 = 2, 20\n",
    "mu, k = 2 * d, w0 ** 2\n",
    "t_test = torch.linspace(0, 1, 300).view(-1, 1)\n",
    "u_exact = exact_solution(d, w0, t_test)\n",
    "optimizer = torch.optim.Adam(model.parameters(), lr=1e-3)\n",
    "num_iter = 15001"
   ]
  },
  {
   "cell_type": "code",
   "execution_count": null,
   "id": "e52b18f1-7244-4654-ad9f-f720cc8b8550",
   "metadata": {},
   "outputs": [],
   "source": [
    "for i in range(num_iter):\n",
    "    optimizer.zero_grad()\n",
    "\n",
    "    u = model(t_boundary)\n",
    "    loss1 = (torch.squeeze(u) - 1) ** 2\n",
    "\n",
    "    dudt = torch.autograd.grad(u, t_boundary, torch.ones_like(u), create_graph=True)[0]\n",
    "    loss2 = (torch.squeeze(dudt) - 0) ** 2\n",
    "\n",
    "    u = model(t_physics)\n",
    "    dudt = torch.autograd.grad(u, t_physics, torch.ones_like(u), create_graph=True)[0]\n",
    "    d2udt2 = torch.autograd.grad(dudt, t_physics, torch.ones_like(dudt), create_graph=True)[0]\n",
    "    loss3 = torch.mean((d2udt2 + mu * dudt + k * u) ** 2)\n",
    "\n",
    "    lambda1, lambda2 = 1e-1, 1e-4\n",
    "    loss = loss1 + lambda1 * loss2 + lambda2 * loss3\n",
    "    loss.backward()\n",
    "    optimizer.step()\n",
    "\n",
    "    if i % 2500 == 0:\n",
    "        u = model(t_test).detach()\n",
    "        diff = str(np.round(np.max(np.abs(u - u_exact).numpy()), 5))\n",
    "        plt.figure(figsize=(8, 4))\n",
    "        plt.scatter(t_physics.detach()[:, 0],\n",
    "                    torch.zeros_like(t_physics)[:, 0], s=20, lw=0, color=\"tab:green\", alpha=0.6)\n",
    "        plt.scatter(t_boundary.detach()[:, 0],\n",
    "                    torch.zeros_like(t_boundary)[:, 0], s=20, lw=0, color=\"tab:blue\", alpha=0.6)\n",
    "        plt.plot(t_test[:, 0], u_exact[:, 0], label=\"Exact solution\", color=\"tab:red\", alpha=0.6)\n",
    "        plt.plot(t_test[:, 0], u[:, 0], label=\"PINN solution\", color=\"tab:green\")\n",
    "        plt.title(f\"Training step {i}\")\n",
    "        plt.text(0.175, 0.9, f'max absolute difference: {diff}', size=10, bbox=dict(facecolor='white', edgecolor='black'))\n",
    "        plt.legend()\n",
    "        plt.show()\n"
   ]
  },
  {
   "cell_type": "code",
   "execution_count": null,
   "id": "f63096d2-b851-498e-bb95-1bd5cc547f08",
   "metadata": {},
   "outputs": [],
   "source": [
    "t_test = torch.linspace(0, 2, 600).view(-1, 1)\n",
    "u = model(t_test).detach()\n",
    "u_exact = exact_solution(d, w0, t_test)\n",
    "diff = str(np.round(np.max(np.abs(u - u_exact).numpy()), 5))\n",
    "plt.figure(figsize=(8, 4))\n",
    "plt.plot(t_test[:, 0], u_exact[:, 0], label=\"Exact solution\", color=\"tab:red\", alpha=0.6)\n",
    "plt.plot(t_test[:, 0], u[:, 0], label=\"PINN solution\", color=\"tab:green\")\n",
    "plt.title(f\"Training step {i}\")\n",
    "plt.text(0.175, 0.9, f'max absolute difference: {diff}', size=10, bbox=dict(facecolor='white', edgecolor='black'))\n",
    "\n",
    "plt.legend()\n",
    "plt.show()"
   ]
  },
  {
   "cell_type": "code",
   "execution_count": null,
   "id": "07707d9d-7dc3-4358-a8c8-e444da26bc21",
   "metadata": {},
   "outputs": [],
   "source": []
  }
 ],
 "metadata": {
  "kernelspec": {
   "display_name": "Physics",
   "language": "python",
   "name": "physics"
  },
  "language_info": {
   "codemirror_mode": {
    "name": "ipython",
    "version": 3
   },
   "file_extension": ".py",
   "mimetype": "text/x-python",
   "name": "python",
   "nbconvert_exporter": "python",
   "pygments_lexer": "ipython3",
   "version": "3.10.9"
  }
 },
 "nbformat": 4,
 "nbformat_minor": 5
}
