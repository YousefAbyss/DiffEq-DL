{
 "cells": [
  {
   "cell_type": "markdown",
   "id": "eb318746-0003-492f-844a-0f1d3fbf9d27",
   "metadata": {},
   "source": [
    "# Diffusion Equation\n",
    "\n",
    "\\begin{equation}\n",
    "\\frac{\\partial g(x,t)}{\\partial t} = \\frac{\\partial^2 g(x,t)}{\\partial x^2}\n",
    "\\end{equation}\n",
    "\n",
    "\\begin{split}\n",
    "\\begin{align*}\n",
    "g(0,t) &= 0 ,\\qquad t \\geq 0 \\\\\n",
    "g(1,t) &= 0,\\qquad t \\geq 0 \\\\\n",
    "g(x,0) &= u(x),\\qquad x\\in [0,1],\\qquad  u(x) = \\sin(\\pi x)\\\\\n",
    "\\end{align*}\n",
    "\\end{split}\n",
    "\n",
    "\\begin{equation}\n",
    "g(x,t) = \\exp(-\\pi^2 t)\\sin(\\pi x)\n",
    "\\end{equation}"
   ]
  },
  {
   "cell_type": "code",
   "execution_count": 13,
   "id": "20a30356-3e72-4ee5-b510-bca89c90a1f5",
   "metadata": {},
   "outputs": [],
   "source": [
    "import numpy as np\n",
    "import torch\n",
    "import torch.nn as nn\n",
    "import matplotlib.pyplot as plt\n",
    "import scienceplots\n",
    "plt.style.use(['science', 'notebook', 'grid'])"
   ]
  },
  {
   "cell_type": "code",
   "execution_count": 14,
   "id": "2f9d7ff4-ca41-4eb9-88eb-0807c5ecb589",
   "metadata": {},
   "outputs": [],
   "source": [
    "torch.manual_seed(15)\n",
    "\n",
    "\n",
    "def exact_solution(x, t):\n",
    "    g = torch.exp(-(torch.pi ** 2) * t) * torch.sin(torch.pi * x)\n",
    "    return g"
   ]
  },
  {
   "cell_type": "code",
   "execution_count": 15,
   "id": "21c71f57-4c32-445c-b25e-883def4acb9c",
   "metadata": {},
   "outputs": [],
   "source": [
    "class FCN(nn.Module):\n",
    "    \"Defines a connected network\"\n",
    "\n",
    "    def __init__(self, N_INPUT, N_OUTPUT, N_HIDDEN, N_LAYERS):\n",
    "        super().__init__()\n",
    "        activation = nn.Tanh\n",
    "        self.fcs = nn.Sequential(*[\n",
    "                        nn.Linear(N_INPUT, N_HIDDEN),\n",
    "                        activation()])\n",
    "        self.fch = nn.Sequential(*[\n",
    "                        nn.Sequential(*[\n",
    "                            nn.Linear(N_HIDDEN, N_HIDDEN),\n",
    "                            activation()]) for _ in range(N_LAYERS - 1)])\n",
    "        self.fce = nn.Linear(N_HIDDEN, N_OUTPUT)\n",
    "\n",
    "    def forward(self, x):\n",
    "        x = self.fcs(x)\n",
    "        x = self.fch(x)\n",
    "        x = self.fce(x)\n",
    "        return x"
   ]
  },
  {
   "cell_type": "code",
   "execution_count": 25,
   "id": "9e55617f-f269-4949-90cd-d2a796c6d9bb",
   "metadata": {},
   "outputs": [],
   "source": [
    "model = FCN(1, 1, 32, 4)\n",
    "x_boundary = torch.linspace(0, 1, 2).view(-1, 1).requires_grad_(True)\n",
    "x_physics = torch.linspace(0, 1, 30).view(-1, 1).requires_grad_(True)\n",
    "t_boundary = torch.tensor(0.).view(-1, 1).requires_grad_(True)\n",
    "t_physics = torch.linspace(0, 1, 30).view(-1, 1).requires_grad_(True)\n",
    "x_test = torch.linspace(0, 1, 300).view(-1, 1)\n",
    "t_test = torch.linspace(0, 1, 300).view(-1, 1)\n",
    "u_exact = exact_solution(x_test, t_test)\n",
    "optimizer = torch.optim.Adam(model.parameters(), lr=1e-3)\n",
    "num_iter = 15001"
   ]
  },
  {
   "cell_type": "code",
   "execution_count": null,
   "id": "898d6289-e38a-4cbd-8aa4-3f713ae78947",
   "metadata": {},
   "outputs": [],
   "source": [
    "for i in range(num_iter):\n",
    "    optimizer.zero_grad()\n",
    "\n",
    "    u = model(t_boundary)\n",
    "    loss1 = (torch.squeeze(u) - 1) ** 2\n",
    "\n",
    "    dudt = torch.autograd.grad(u, t_boundary, torch.ones_like(u), create_graph=True)[0]\n",
    "    loss2 = (torch.squeeze(dudt) - 0) ** 2\n",
    "\n",
    "    u = model(t_physics)\n",
    "    dudt = torch.autograd.grad(u, t_physics, torch.ones_like(u), create_graph=True)[0]\n",
    "    d2udt2 = torch.autograd.grad(dudt, t_physics, torch.ones_like(dudt), create_graph=True)[0]\n",
    "    loss3 = torch.mean((d2udt2 + mu * dudt + k * u) ** 2)\n",
    "\n",
    "    lambda1, lambda2 = 1e-1, 1e-4\n",
    "    loss = loss1 + lambda1 * loss2 + lambda2 * loss3\n",
    "    loss.backward()\n",
    "    optimizer.step()\n",
    "\n",
    "    # if i % 2500 == 0:\n",
    "    #     u = model(t_test).detach()\n",
    "    #     diff = str(np.round(np.max(np.abs(u - u_exact).numpy()), 5))\n",
    "    #     plt.figure(figsize=(8, 4))\n",
    "    #     plt.scatter(t_physics.detach()[:, 0],\n",
    "    #                 torch.zeros_like(t_physics)[:, 0], s=20, lw=0, color=\"tab:green\", alpha=0.6)\n",
    "    #     plt.scatter(t_boundary.detach()[:, 0],\n",
    "    #                 torch.zeros_like(t_boundary)[:, 0], s=20, lw=0, color=\"tab:blue\", alpha=0.6)\n",
    "    #     plt.plot(t_test[:, 0], u_exact[:, 0], label=\"Exact solution\", color=\"tab:red\", alpha=0.6)\n",
    "    #     plt.plot(t_test[:, 0], u[:, 0], label=\"PINN solution\", color=\"tab:green\")\n",
    "    #     plt.title(f\"Training step {i}\")\n",
    "    #     plt.text(0.175, 0.9, f'max absolute difference: {diff}', size=10, bbox=dict(facecolor='white', edgecolor='black'))\n",
    "    #     plt.legend()\n",
    "    #     plt.show()"
   ]
  }
 ],
 "metadata": {
  "kernelspec": {
   "display_name": "Physics",
   "language": "python",
   "name": "physics"
  },
  "language_info": {
   "codemirror_mode": {
    "name": "ipython",
    "version": 3
   },
   "file_extension": ".py",
   "mimetype": "text/x-python",
   "name": "python",
   "nbconvert_exporter": "python",
   "pygments_lexer": "ipython3",
   "version": "3.10.9"
  }
 },
 "nbformat": 4,
 "nbformat_minor": 5
}
