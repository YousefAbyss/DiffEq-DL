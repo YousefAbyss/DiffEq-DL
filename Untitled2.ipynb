{
 "cells": [
  {
   "cell_type": "code",
   "execution_count": 1,
   "id": "d825cbae-c897-4eeb-af55-f87f236e1cfc",
   "metadata": {},
   "outputs": [
    {
     "name": "stderr",
     "output_type": "stream",
     "text": [
      "Using backend: pytorch\n",
      "Other supported backends: tensorflow.compat.v1, tensorflow, jax, paddle.\n",
      "paddle supports more examples now and is recommended.\n"
     ]
    }
   ],
   "source": [
    "import deepxde as dde\n",
    "import matplotlib.pyplot as plt\n",
    "import numpy as np\n",
    "from scipy import integrate\n",
    "from deepxde.backend import torch\n",
    "import torch\n",
    "import scienceplots\n",
    "plt.style.use(['science', 'notebook', 'grid'])"
   ]
  },
  {
   "cell_type": "code",
   "execution_count": 2,
   "id": "02175e22-b534-49ff-8206-5124b8188f29",
   "metadata": {},
   "outputs": [],
   "source": [
    "lst = np.array([[1, 4], [7, 9]])"
   ]
  },
  {
   "cell_type": "code",
   "execution_count": 14,
   "id": "80ddc118-c2d3-4f26-ad1a-22d9843c4f66",
   "metadata": {},
   "outputs": [
    {
     "data": {
      "text/plain": [
       "array([[1],\n",
       "       [7]])"
      ]
     },
     "execution_count": 14,
     "metadata": {},
     "output_type": "execute_result"
    }
   ],
   "source": [
    "lst[:,0:1]"
   ]
  },
  {
   "cell_type": "code",
   "execution_count": 16,
   "id": "14b54a82-71ed-4c5b-b3db-a9a02935406c",
   "metadata": {},
   "outputs": [
    {
     "data": {
      "text/plain": [
       "\u001b[0;31mInit signature:\u001b[0m\n",
       "\u001b[0mdde\u001b[0m\u001b[0;34m.\u001b[0m\u001b[0mdata\u001b[0m\u001b[0;34m.\u001b[0m\u001b[0mPDE\u001b[0m\u001b[0;34m(\u001b[0m\u001b[0;34m\u001b[0m\n",
       "\u001b[0;34m\u001b[0m    \u001b[0mgeometry\u001b[0m\u001b[0;34m,\u001b[0m\u001b[0;34m\u001b[0m\n",
       "\u001b[0;34m\u001b[0m    \u001b[0mpde\u001b[0m\u001b[0;34m,\u001b[0m\u001b[0;34m\u001b[0m\n",
       "\u001b[0;34m\u001b[0m    \u001b[0mbcs\u001b[0m\u001b[0;34m,\u001b[0m\u001b[0;34m\u001b[0m\n",
       "\u001b[0;34m\u001b[0m    \u001b[0mnum_domain\u001b[0m\u001b[0;34m=\u001b[0m\u001b[0;36m0\u001b[0m\u001b[0;34m,\u001b[0m\u001b[0;34m\u001b[0m\n",
       "\u001b[0;34m\u001b[0m    \u001b[0mnum_boundary\u001b[0m\u001b[0;34m=\u001b[0m\u001b[0;36m0\u001b[0m\u001b[0;34m,\u001b[0m\u001b[0;34m\u001b[0m\n",
       "\u001b[0;34m\u001b[0m    \u001b[0mtrain_distribution\u001b[0m\u001b[0;34m=\u001b[0m\u001b[0;34m'Hammersley'\u001b[0m\u001b[0;34m,\u001b[0m\u001b[0;34m\u001b[0m\n",
       "\u001b[0;34m\u001b[0m    \u001b[0manchors\u001b[0m\u001b[0;34m=\u001b[0m\u001b[0;32mNone\u001b[0m\u001b[0;34m,\u001b[0m\u001b[0;34m\u001b[0m\n",
       "\u001b[0;34m\u001b[0m    \u001b[0mexclusions\u001b[0m\u001b[0;34m=\u001b[0m\u001b[0;32mNone\u001b[0m\u001b[0;34m,\u001b[0m\u001b[0;34m\u001b[0m\n",
       "\u001b[0;34m\u001b[0m    \u001b[0msolution\u001b[0m\u001b[0;34m=\u001b[0m\u001b[0;32mNone\u001b[0m\u001b[0;34m,\u001b[0m\u001b[0;34m\u001b[0m\n",
       "\u001b[0;34m\u001b[0m    \u001b[0mnum_test\u001b[0m\u001b[0;34m=\u001b[0m\u001b[0;32mNone\u001b[0m\u001b[0;34m,\u001b[0m\u001b[0;34m\u001b[0m\n",
       "\u001b[0;34m\u001b[0m    \u001b[0mauxiliary_var_function\u001b[0m\u001b[0;34m=\u001b[0m\u001b[0;32mNone\u001b[0m\u001b[0;34m,\u001b[0m\u001b[0;34m\u001b[0m\n",
       "\u001b[0;34m\u001b[0m\u001b[0;34m)\u001b[0m\u001b[0;34m\u001b[0m\u001b[0;34m\u001b[0m\u001b[0m\n",
       "\u001b[0;31mDocstring:\u001b[0m     \n",
       "ODE or time-independent PDE solver.\n",
       "\n",
       "Args:\n",
       "    geometry: Instance of ``Geometry``.\n",
       "    pde: A global PDE or a list of PDEs. ``None`` if no global PDE.\n",
       "    bcs: A boundary condition or a list of boundary conditions. Use ``[]`` if no\n",
       "        boundary condition.\n",
       "    num_domain (int): The number of training points sampled inside the domain.\n",
       "    num_boundary (int): The number of training points sampled on the boundary.\n",
       "    train_distribution (string): The distribution to sample training points. One of\n",
       "        the following: \"uniform\" (equispaced grid), \"pseudo\" (pseudorandom), \"LHS\"\n",
       "        (Latin hypercube sampling), \"Halton\" (Halton sequence), \"Hammersley\"\n",
       "        (Hammersley sequence), or \"Sobol\" (Sobol sequence).\n",
       "    anchors: A Numpy array of training points, in addition to the `num_domain` and\n",
       "        `num_boundary` sampled points.\n",
       "    exclusions: A Numpy array of points to be excluded for training.\n",
       "    solution: The reference solution.\n",
       "    num_test: The number of points sampled inside the domain for testing PDE loss.\n",
       "        The testing points for BCs/ICs are the same set of points used for training.\n",
       "        If ``None``, then the training points will be used for testing.\n",
       "    auxiliary_var_function: A function that inputs `train_x` or `test_x` and outputs\n",
       "        auxiliary variables.\n",
       "\n",
       "Warning:\n",
       "    The testing points include points inside the domain and points on the boundary,\n",
       "    and they may not have the same density, and thus the entire testing points may\n",
       "    not be uniformly distributed. As a result, if you have a reference solution\n",
       "    (`solution`) and would like to compute a metric such as\n",
       "\n",
       "    .. code-block:: python\n",
       "\n",
       "        Model.compile(metrics=[\"l2 relative error\"])\n",
       "\n",
       "    then the metric may not be very accurate. To better compute a metric, you can\n",
       "    sample the points manually, and then use ``Model.predict()`` to predict the\n",
       "    solution on thess points and compute the metric:\n",
       "\n",
       "    .. code-block:: python\n",
       "\n",
       "        x = geom.uniform_points(num, boundary=True)\n",
       "        y_true = ...\n",
       "        y_pred = model.predict(x)\n",
       "        error= dde.metrics.l2_relative_error(y_true, y_pred)\n",
       "\n",
       "Attributes:\n",
       "    train_x_all: A Numpy array of points for PDE training. `train_x_all` is\n",
       "        unordered, and does not have duplication. If there is PDE, then\n",
       "        `train_x_all` is used as the training points of PDE.\n",
       "    train_x_bc: A Numpy array of the training points for BCs. `train_x_bc` is\n",
       "        constructed from `train_x_all` at the first step of training, by default it\n",
       "        won't be updated when `train_x_all` changes. To update `train_x_bc`, set it\n",
       "        to `None` and call `bc_points`, and then update the loss function by\n",
       "        ``model.compile()``.\n",
       "    num_bcs (list): `num_bcs[i]` is the number of points for `bcs[i]`.\n",
       "    train_x: A Numpy array of the points fed into the network for training.\n",
       "        `train_x` is ordered from BC points (`train_x_bc`) to PDE points\n",
       "        (`train_x_all`), and may have duplicate points.\n",
       "    train_aux_vars: Auxiliary variables that associate with `train_x`.\n",
       "    test_x: A Numpy array of the points fed into the network for testing, ordered\n",
       "        from BCs to PDE. The BC points are exactly the same points in `train_x_bc`.\n",
       "    test_aux_vars: Auxiliary variables that associate with `test_x`.\n",
       "\u001b[0;31mFile:\u001b[0m           ~/anaconda3/envs/Physics/lib/python3.10/site-packages/deepxde/data/pde.py\n",
       "\u001b[0;31mType:\u001b[0m           ABCMeta\n",
       "\u001b[0;31mSubclasses:\u001b[0m     TimePDE, FPDE, IDE"
      ]
     },
     "metadata": {},
     "output_type": "display_data"
    }
   ],
   "source": [
    "dde.data.PDE?"
   ]
  },
  {
   "cell_type": "code",
   "execution_count": null,
   "id": "a0cbd5e2-4188-493d-9969-ef34249b9349",
   "metadata": {},
   "outputs": [],
   "source": []
  }
 ],
 "metadata": {
  "kernelspec": {
   "display_name": "Physics",
   "language": "python",
   "name": "physics"
  },
  "language_info": {
   "codemirror_mode": {
    "name": "ipython",
    "version": 3
   },
   "file_extension": ".py",
   "mimetype": "text/x-python",
   "name": "python",
   "nbconvert_exporter": "python",
   "pygments_lexer": "ipython3",
   "version": "3.10.9"
  }
 },
 "nbformat": 4,
 "nbformat_minor": 5
}
